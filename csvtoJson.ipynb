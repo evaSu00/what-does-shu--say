{
 "cells": [
  {
   "cell_type": "code",
   "execution_count": 23,
   "id": "47f120e8",
   "metadata": {},
   "outputs": [],
   "source": [
    "import csv\n",
    "import json\n",
    "import pandas as pd"
   ]
  },
  {
   "cell_type": "code",
   "execution_count": 27,
   "id": "447d3bc2",
   "metadata": {},
   "outputs": [],
   "source": [
    "csv_file_path = \"./collect_form.csv\"\n",
    "json_file_path = \"./collect_form.txt\"\n",
    "\n",
    "# 讀取 CSV 檔案並轉換為 Python 字典的列表\n",
    "csv_data = []\n",
    "with open(csv_file_path, \"r\",encoding=\"utf-8\") as csv_file:\n",
    "    csv_reader = csv.DictReader(csv_file)\n",
    "    for row in csv_reader:\n",
    "        csv_data.append(row)\n",
    "\n"
   ]
  },
  {
   "cell_type": "code",
   "execution_count": 28,
   "id": "0efa95fd",
   "metadata": {},
   "outputs": [
    {
     "data": {
      "text/plain": [
       "[{'\\ufeffno': '1',\n",
       "  'stream_name': '2022/07/26 shu yamino organized neatly',\n",
       "  'stream_link': 'https://www.youtube.com/watch?v=GvBPFY3altg&t=10821s',\n",
       "  'unlock_img': '(2)',\n",
       "  'voice_id': 'spvoice_1'},\n",
       " {'\\ufeffno': '2',\n",
       "  'stream_name': '2022/01/23 【📻📶】first horror game stream (The Radio Station)',\n",
       "  'stream_link': 'https://www.youtube.com/watch?v=4TLRTBpsjmg&t=2988s',\n",
       "  'unlock_img': '(2)',\n",
       "  'voice_id': 'spvoice_2'},\n",
       " {'\\ufeffno': '3',\n",
       "  'stream_name': '2021/12/22 how i got here',\n",
       "  'stream_link': 'https://www.youtube.com/watch?v=NkbG17qCTSA&t=7s',\n",
       "  'unlock_img': '(3)',\n",
       "  'voice_id': 'spvoice_3'},\n",
       " {'\\ufeffno': '4',\n",
       "  'stream_name': '2022/04/27 how many bananas did we get (Just Chatting)',\n",
       "  'stream_link': 'https://www.youtube.com/watch?v=BTNvN_nK9eI&t=2553s',\n",
       "  'unlock_img': '(3)',\n",
       "  'voice_id': 'spvoice_4'}]"
      ]
     },
     "execution_count": 28,
     "metadata": {},
     "output_type": "execute_result"
    }
   ],
   "source": [
    "csv_data"
   ]
  },
  {
   "cell_type": "code",
   "execution_count": 29,
   "id": "e3443f6c",
   "metadata": {},
   "outputs": [],
   "source": [
    "# 將 Python 字典的列表轉換為 JSON，並儲存到檔案\n",
    "with open(json_file_path, \"w\",encoding=\"utf-8\") as json_file:\n",
    "    json.dump(csv_data, json_file, ensure_ascii=False)"
   ]
  },
  {
   "cell_type": "code",
   "execution_count": null,
   "id": "dc3488cd",
   "metadata": {},
   "outputs": [],
   "source": []
  },
  {
   "cell_type": "code",
   "execution_count": null,
   "id": "ae8e8234",
   "metadata": {},
   "outputs": [],
   "source": []
  },
  {
   "cell_type": "code",
   "execution_count": null,
   "id": "f75d6864",
   "metadata": {},
   "outputs": [],
   "source": []
  }
 ],
 "metadata": {
  "kernelspec": {
   "display_name": "Python 3 (ipykernel)",
   "language": "python",
   "name": "python3"
  },
  "language_info": {
   "codemirror_mode": {
    "name": "ipython",
    "version": 3
   },
   "file_extension": ".py",
   "mimetype": "text/x-python",
   "name": "python",
   "nbconvert_exporter": "python",
   "pygments_lexer": "ipython3",
   "version": "3.9.12"
  }
 },
 "nbformat": 4,
 "nbformat_minor": 5
}
